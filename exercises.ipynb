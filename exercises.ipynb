{
 "cells": [
  {
   "cell_type": "markdown",
   "id": "6cf1aed9",
   "metadata": {},
   "source": [
    "<font color='darkred'> Unless otherwise noted, **this notebook will not be reviewed or autograded.**</font> You are welcome to use it for scratchwork, but **only the files listed in the exercises will be checked.**\n",
    "\n",
    "---\n",
    "\n",
    "# Exercises\n",
    "\n",
    "For these exercises, add your functions to the *apputil\\.py* file. If you like, you're welcome to adjust the *app\\.py* file, but it is not required.\n",
    "\n",
    "## Exercise 1\n",
    "\n",
    "Given enough pennies (1 cent) and nickels (5 cents), write a function `ways(n)` which calculates the number of ways you can make change for a given amount of cents `n`. The function should return the number of ways to yield `n` cents using only pennies and nickels.\n",
    "\n",
    "**Test Cases:**\n",
    "\n",
    "```python\n",
    "function   --->      (num pennies, num nickels)\n",
    "    \n",
    "ways(12)   ---> 3    [(2, 2), (7, 1), (12, 0)]               \n",
    "ways(20)   ---> 5    [(0, 4), (5, 3), (10, 2), (15, 1), (20, 0)]\n",
    "ways(3)    ---> 1    [(3, 0)]\n",
    "ways(0)    ---> 1    [(0, 0)]\n",
    "```\n",
    "\n",
    "*Note: the autograder will be checking only for the function to return the **number** of ways. The items listed to the right, above, are for reference only.*"
   ]
  },
  {
   "cell_type": "markdown",
   "id": "a067cdd5",
   "metadata": {
    "vscode": {
     "languageId": "plaintext"
    }
   },
   "source": [
    "### optional variation\n",
    "\n",
    "Update your `ways` function to incorporate an *arbitrary* set of coin values. I.e., your function should now look something like this:\n",
    "\n",
    "```python\n",
    "def ways(cents, coin_types=[1, 5]):\n",
    "    # code code ...\n",
    "\n",
    ">>> ways(100, [25, 10, 5, 1])\n",
    ">>> 242\n",
    "```\n"
   ]
  },
  {
   "cell_type": "code",
   "execution_count": null,
   "id": "ae5247e1",
   "metadata": {},
   "outputs": [],
   "source": [
    "def ways(cents, coin_types=[1, 5]):\n",
    "    total_coins = 0 #counts number of coins\n",
    "    coin_types = sorted(coin_types, reverse=True) #sort coin types in descending order so we start with the largest coin value\n",
    "    for coin in coin_types:\n",
    "        coin_count = cents // coin #floor division to get number of coins we can use of this type (rounds divided number down to nearest whole num)\n",
    "        total_coins += coin_count #adds the above calculated number of coins to the total coin count\n",
    "        cents -= coin_count * coin #finds the amount the above calculated number of coins is worth and subtracts that from the cent total we have left\n",
    "    yield coin_count #returns the total number of coins used"
   ]
  },
  {
   "cell_type": "code",
   "execution_count": null,
   "id": "70c9c52e",
   "metadata": {},
   "outputs": [],
   "source": [
    "def ways(cents):\n",
    "    total_coins = 0\n",
    "    max_nickels = cents // 5\n",
    "    i = 0\n",
    "    while i <= max_nickels:\n",
    "        for num in range(max_nickels)\n",
    "        num_cents = cents\n",
    "        num_cents -= i * 5\n",
    "        total_coins += i\n",
    "        total_coins += cents\n",
    "        print(f\"nickels = {i}, pennies = {num_cents}, total coins = {total_coins}\")\n",
    "        i += 1\n",
    "    \n",
    "# --- IGNORE ---\n",
    "#cents = 12\n",
    "# max_nickels = 2\n",
    "# nickels = 2, pennies = 2\n",
    "# nickels = 1, pennies = 7\n",
    "# nickels = 0, pennies = 12"
   ]
  },
  {
   "cell_type": "code",
   "execution_count": 36,
   "id": "8ae7fd7d",
   "metadata": {},
   "outputs": [
    {
     "name": "stdout",
     "output_type": "stream",
     "text": [
      "nickels = 0, pennies = 12, total coins = 12\n",
      "nickels = 1, pennies = 7, total coins = 13\n",
      "nickels = 2, pennies = 2, total coins = 14\n"
     ]
    }
   ],
   "source": [
    "test = ways(12)\n"
   ]
  },
  {
   "cell_type": "markdown",
   "id": "28682d59",
   "metadata": {},
   "source": [
    "## Exercise 2\n",
    "\n",
    "Suppose we have student `names`, and test `scores` for each student, respectively. For example, we could have:\n",
    "\n",
    "```python\n",
    "names = np.array(['Hannah', 'Astrid', 'Abdul', 'Mauve', 'Jung'])\n",
    "scores = np.array([99, 71, 85, 62, 91])\n",
    "```\n",
    "\n",
    "### part 1\n",
    "\n",
    "Use NumPy to write a function `lowest_score(names, scores)` that returns the `name` of the student with the lowest `score`.\n",
    "\n",
    "> Hint: take a look at the [argmin](https://numpy.org/doc/stable/reference/generated/numpy.argmin.html) function.\n",
    "\n",
    "### part 2\n",
    "\n",
    "Write a similar function `sort_names(names, scores)` that will list the names of students in *descending* order of test score (i.e., a list of names, with associated scores in order from highest to lowest)."
   ]
  },
  {
   "cell_type": "code",
   "execution_count": null,
   "id": "8d78555f",
   "metadata": {},
   "outputs": [],
   "source": []
  }
 ],
 "metadata": {
  "kernelspec": {
   "display_name": "base",
   "language": "python",
   "name": "python3"
  },
  "language_info": {
   "codemirror_mode": {
    "name": "ipython",
    "version": 3
   },
   "file_extension": ".py",
   "mimetype": "text/x-python",
   "name": "python",
   "nbconvert_exporter": "python",
   "pygments_lexer": "ipython3",
   "version": "3.11.13"
  }
 },
 "nbformat": 4,
 "nbformat_minor": 5
}
