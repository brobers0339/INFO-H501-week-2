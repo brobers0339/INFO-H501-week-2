{
 "cells": [
  {
   "cell_type": "markdown",
   "id": "6cf1aed9",
   "metadata": {},
   "source": [
    "<font color='darkred'> Unless otherwise noted, **this notebook will not be reviewed or autograded.**</font> You are welcome to use it for scratchwork, but **only the files listed in the exercises will be checked.**\n",
    "\n",
    "---\n",
    "\n",
    "# Exercises\n",
    "\n",
    "For these exercises, add your functions to the *apputil\\.py* file. If you like, you're welcome to adjust the *app\\.py* file, but it is not required.\n",
    "\n",
    "## Exercise 1\n",
    "\n",
    "Given enough pennies (1 cent) and nickels (5 cents), write a function `ways(n)` which calculates the number of ways you can make change for a given amount of cents `n`. The function should return the number of ways to yield `n` cents using only pennies and nickels.\n",
    "\n",
    "**Test Cases:**\n",
    "\n",
    "```python\n",
    "function   --->      (num pennies, num nickels)\n",
    "    \n",
    "ways(12)   ---> 3    [(2, 2), (7, 1), (12, 0)]               \n",
    "ways(20)   ---> 5    [(0, 4), (5, 3), (10, 2), (15, 1), (20, 0)]\n",
    "ways(3)    ---> 1    [(3, 0)]\n",
    "ways(0)    ---> 1    [(0, 0)]\n",
    "```\n",
    "\n",
    "*Note: the autograder will be checking only for the function to return the **number** of ways. The items listed to the right, above, are for reference only.*"
   ]
  },
  {
   "cell_type": "markdown",
   "id": "a067cdd5",
   "metadata": {
    "vscode": {
     "languageId": "plaintext"
    }
   },
   "source": [
    "### optional variation\n",
    "\n",
    "Update your `ways` function to incorporate an *arbitrary* set of coin values. I.e., your function should now look something like this:\n",
    "\n",
    "```python\n",
    "def ways(cents, coin_types=[1, 5]):\n",
    "    # code code ...\n",
    "\n",
    ">>> ways(100, [25, 10, 5, 1])\n",
    ">>> 242\n",
    "```\n"
   ]
  },
  {
   "cell_type": "code",
   "execution_count": null,
   "id": "ae5247e1",
   "metadata": {},
   "outputs": [],
   "source": [
    "def ways(cents, coin_types=[1, 5]):\n",
    "    ways_total = 0 #counts number of ways to make change\n",
    "    list_ways = [] #list to store different ways to make change\n",
    "    coin_types = sorted(coin_types, reverse=True) #sort coin types in descending order so we start with the largest coin value\n",
    "    for nickels in range(cents//5 + 1): #iterate through range of 0 to max number of nickels that can fit into cents\n",
    "        pennies = cents - (nickels * 5) #calculate remaining cents after using nickels at the current iteration\n",
    "        if pennies >= 0: #only count valid combinations where pennies is non-negative\n",
    "            ways_total += 1 #add one to the valid combinations count\n",
    "        list_ways.append((nickels, pennies)) #list represents the yield function instead of using it due to the return needed at the end of the function\n",
    "    #adds print statements to show the different ways to make change\n",
    "    print(\"The following are ways to make change for\", cents, \"cents using nickels and pennies:\")\n",
    "    for way in list_ways: \n",
    "        print(f'{way[0]} nickels and {way[1]} pennies') #print out the different ways to make change\n",
    "    return ways_total #returns the total number of ways to make change\n"
   ]
  },
  {
   "cell_type": "code",
   "execution_count": 75,
   "id": "c7c9b36c",
   "metadata": {},
   "outputs": [
    {
     "name": "stdout",
     "output_type": "stream",
     "text": [
      "The following are ways to make change for 20 cents using nickels and pennies:\n",
      "0 nickels and 20 pennies\n",
      "1 nickels and 15 pennies\n",
      "2 nickels and 10 pennies\n",
      "3 nickels and 5 pennies\n",
      "4 nickels and 0 pennies\n"
     ]
    },
    {
     "data": {
      "text/plain": [
       "5"
      ]
     },
     "execution_count": 75,
     "metadata": {},
     "output_type": "execute_result"
    }
   ],
   "source": [
    "ways(20)"
   ]
  },
  {
   "cell_type": "code",
   "execution_count": null,
   "id": "9c5a8191",
   "metadata": {},
   "outputs": [],
   "source": [
    "#optional variation for any coin types\n",
    "def ways(cents, coin_types=[1, 5]):\n",
    "    list_ways = [] #list to store different ways to make change\n",
    "    sorted_coin_types = sorted(coin_types, reverse=True) #make sure coin values are sorted highest to lowest\n",
    "    ways_total = 0 #counts number of ways to make change\n",
    "    length_coin_types = len(sorted_coin_types) #finds number of different coin values given in the function instance\n",
    "    for highest_coin in range(cents // sorted_coin_types[0] + 1): #starts first loop with the highest coin value\n",
    "        if length_coin_types == 2: #if there are only two coin types, we know that the next coin value is 1 so we can calculate the remaining cents as pennies for all iterations of the highest coin value\n",
    "            pennies = cents - (highest_coin * sorted_coin_types[0]) #calculate remaining cents after using the highest coin value at the current iteration\n",
    "            if pennies >= 0: #only count valid combinations where pennies is non-negative\n",
    "                ways_total += 1 #add one to the valid combinations count\n",
    "                list_ways.append((highest_coin, pennies)) #list represents the yield function instead of using it due to the return needed at the end of the function\n",
    "        else: #if there are more than two coin types, we need to loop through the next highest coin value\n",
    "            for second_highest_coin in range(cents // sorted_coin_types[1] + 1): #loop through the second highest coin value (meaning all coin values are given 25, 10, and 5), no other possible coin values can occur after this loop\n",
    "                if length_coin_types == 3: #if there are three coin types, we know that the next coin value is 1 so we can calculate the remaining cents as pennies for all iterations of the highest and second highest coin values\n",
    "                    pennies = cents - (highest_coin * sorted_coin_types[0]) - (second_highest_coin * sorted_coin_types[1]) #calculate remaining cents after using the highest and second highest coin values at the current iteration\n",
    "                    if pennies >= 0: #only count valid combinations where pennies is non-negative\n",
    "                        ways_total += 1 #add one to the valid combinations count\n",
    "                        list_ways.append((highest_coin, second_highest_coin, pennies)) #list represents the yield function instead of using it due to the return needed at the end of the function\n",
    "                else: #if there are more than three coin types, we need to loop through the next highest coin value\n",
    "                    for third_highest_coin in range(cents // sorted_coin_types[2] + 1): #loop through the third highest coin value (meaning all coin values are given 25, 10, 5, and 1), no other possible coin values can occur after this loop\n",
    "                        pennies = cents - (highest_coin * sorted_coin_types[0]) - (second_highest_coin * sorted_coin_types[1]) - (third_highest_coin * sorted_coin_types[2]) #calculate remaining cents after using the highest, second highest, and third highest coin values at the current iteration\n",
    "                        if pennies >= 0: #only count valid combinations where pennies is non-negative\n",
    "                            ways_total += 1 #add one to the valid combinations count\n",
    "                            list_ways.append((highest_coin, second_highest_coin, third_highest_coin, pennies)) #add the current iteration of coins to make change to list, this list replaces the yield function due to the return needed at the end of the function\n",
    "    #use print statements to display the different ways to make change\n",
    "    print(\"The following are the ways to make change for\", cents, \"cents using the coin types:\", sorted_coin_types)\n",
    "    for way in list_ways: \n",
    "        for coin in range(len(way)):\n",
    "            print(f'{way[coin]} of {sorted_coin_types[coin]} cent coins', end=', ' if coin < len(way)-1 else '\\n')\n",
    "    return ways_total #returns the total number of ways to make change\n"
   ]
  },
  {
   "cell_type": "code",
   "execution_count": 93,
   "id": "4fa685e0",
   "metadata": {},
   "outputs": [
    {
     "name": "stdout",
     "output_type": "stream",
     "text": [
      "The following are the ways to make change for 20 cents using the coin types: [10, 5, 1]\n",
      "0 of 10 cent coin(s), 0 of 5 cent coin(s), 20 of 1 cent coin(s)\n",
      "0 of 10 cent coin(s), 1 of 5 cent coin(s), 15 of 1 cent coin(s)\n",
      "0 of 10 cent coin(s), 2 of 5 cent coin(s), 10 of 1 cent coin(s)\n",
      "0 of 10 cent coin(s), 3 of 5 cent coin(s), 5 of 1 cent coin(s)\n",
      "0 of 10 cent coin(s), 4 of 5 cent coin(s), 0 of 1 cent coin(s)\n",
      "1 of 10 cent coin(s), 0 of 5 cent coin(s), 10 of 1 cent coin(s)\n",
      "1 of 10 cent coin(s), 1 of 5 cent coin(s), 5 of 1 cent coin(s)\n",
      "1 of 10 cent coin(s), 2 of 5 cent coin(s), 0 of 1 cent coin(s)\n",
      "2 of 10 cent coin(s), 0 of 5 cent coin(s), 0 of 1 cent coin(s)\n"
     ]
    },
    {
     "data": {
      "text/plain": [
       "9"
      ]
     },
     "execution_count": 93,
     "metadata": {},
     "output_type": "execute_result"
    }
   ],
   "source": [
    "ways(20, coin_types=[1, 5, 10])"
   ]
  },
  {
   "cell_type": "code",
   "execution_count": 26,
   "id": "8ae7fd7d",
   "metadata": {},
   "outputs": [
    {
     "name": "stdout",
     "output_type": "stream",
     "text": [
      "nickels = 0, pennies = 12, total coins = 12\n",
      "nickels = 1, pennies = 7, total coins = 8\n",
      "nickels = 2, pennies = 2, total coins = 4\n"
     ]
    }
   ],
   "source": [
    "test = ways(12)\n",
    "\n",
    "for t in test:\n",
    "    print(t)"
   ]
  },
  {
   "cell_type": "markdown",
   "id": "28682d59",
   "metadata": {},
   "source": [
    "## Exercise 2\n",
    "\n",
    "Suppose we have student `names`, and test `scores` for each student, respectively. For example, we could have:\n",
    "\n",
    "```python\n",
    "names = np.array(['Hannah', 'Astrid', 'Abdul', 'Mauve', 'Jung'])\n",
    "scores = np.array([99, 71, 85, 62, 91])\n",
    "```\n",
    "\n",
    "### part 1\n",
    "\n",
    "Use NumPy to write a function `lowest_score(names, scores)` that returns the `name` of the student with the lowest `score`.\n",
    "\n",
    "> Hint: take a look at the [argmin](https://numpy.org/doc/stable/reference/generated/numpy.argmin.html) function.\n",
    "\n",
    "### part 2\n",
    "\n",
    "Write a similar function `sort_names(names, scores)` that will list the names of students in *descending* order of test score (i.e., a list of names, with associated scores in order from highest to lowest)."
   ]
  },
  {
   "cell_type": "code",
   "execution_count": 76,
   "id": "8d78555f",
   "metadata": {},
   "outputs": [],
   "source": [
    "import numpy as np\n",
    "def lowest_score(names, scores):\n",
    "    return names[np.argmin(scores)]"
   ]
  },
  {
   "cell_type": "code",
   "execution_count": 77,
   "id": "3868974e",
   "metadata": {},
   "outputs": [
    {
     "name": "stdout",
     "output_type": "stream",
     "text": [
      "Bob\n"
     ]
    }
   ],
   "source": [
    "print(lowest_score(['Alice', 'Bob', 'Charlie'], [85, 78, 79]))\n"
   ]
  },
  {
   "cell_type": "code",
   "execution_count": 20,
   "id": "fcc08192",
   "metadata": {},
   "outputs": [],
   "source": [
    "def sort_names(names, scores):\n",
    "    sorted_list = sorted(zip(scores, names), reverse=True)\n",
    "    sorted_name = []\n",
    "    for name in range(len(sorted_list)):\n",
    "        sorted_name.append(sorted_list[name][1])\n",
    "    return sorted_name"
   ]
  },
  {
   "cell_type": "code",
   "execution_count": 21,
   "id": "f5a92327",
   "metadata": {},
   "outputs": [
    {
     "name": "stdout",
     "output_type": "stream",
     "text": [
      "['Charlie', 'Tod', 'Alice', 'Bob']\n"
     ]
    }
   ],
   "source": [
    "print(sort_names(['Alice', 'Bob', 'Charlie', 'Tod'], [85, 78, 99, 90]))"
   ]
  }
 ],
 "metadata": {
  "kernelspec": {
   "display_name": "base",
   "language": "python",
   "name": "python3"
  },
  "language_info": {
   "codemirror_mode": {
    "name": "ipython",
    "version": 3
   },
   "file_extension": ".py",
   "mimetype": "text/x-python",
   "name": "python",
   "nbconvert_exporter": "python",
   "pygments_lexer": "ipython3",
   "version": "3.11.13"
  }
 },
 "nbformat": 4,
 "nbformat_minor": 5
}
